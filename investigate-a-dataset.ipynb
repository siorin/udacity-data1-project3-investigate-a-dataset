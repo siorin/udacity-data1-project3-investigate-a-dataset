{
 "cells": [
  {
   "cell_type": "markdown",
   "metadata": {},
   "source": [
    "# Exploratory Data Analysis of Brazillian Medical Appointment No-Shows and Possible Related Characteristics\n",
    "\n",
    "## Table of Contents\n",
    "<ul>\n",
    "<li><a href=\"#intro\">Introduction</a></li>\n",
    "<li><a href=\"#wrangling\">Data Wrangling</a></li>\n",
    "<li><a href=\"#eda\">Exploratory Data Analysis</a></li>\n",
    "<li><a href=\"#conclusions\">Conclusions</a></li>\n",
    "<li><a href=\"#references\">References</a></li>\n",
    "</ul>"
   ]
  },
  {
   "cell_type": "markdown",
   "metadata": {},
   "source": [
    "<a id='intro'></a>\n",
    "## Introduction\n",
    "\n",
    "I selected the 'No-show appointments' dataset for which to do exploratory data analysis. The base data was a modified version obtained from [here](https://docs.google.com/document/d/e/2PACX-1vTlVmknRRnfy_4eTrjw5hYGaiQim5ctr9naaRd4V9du2B5bxpd8FEH3KtDgp8qVekw7Cj1GLk1IXdZi/pub?embedded=True) and originally provided by [kaggle](https://www.kaggle.com/joniarroba/noshowappointments). \n",
    "\n",
    "This dataset contains information about specific medical appointments made in the city of Vitória, Brazil. The main dependent variable is the 'no-show' result - whether the appointment was kept by the patient, or if the patient was a no-show. There are additional characteristics for each patient and appointment which will be explored - to answer the question of: __are there possible variables that might be related to the show/no-show outcome?__\n",
    "\n",
    "Since this is an exploratory analysis and purely descriptive, this will not make any predictions/inferences about the data.\n"
   ]
  },
  {
   "cell_type": "markdown",
   "metadata": {},
   "source": [
    "<a id='wrangling'></a>\n",
    "## Data Wrangling\n",
    "\n",
    "\n",
    "### General Properties\n",
    "First, import the packages that will be used in the analysis and for the visualisations."
   ]
  },
  {
   "cell_type": "code",
   "execution_count": 149,
   "metadata": {},
   "outputs": [],
   "source": [
    "# import packages\n",
    "import pandas as pd\n",
    "import numpy as np\n",
    "import matplotlib.pyplot as plt\n",
    "import seaborn as sns\n",
    "\n",
    "# inline plots to display in notebook\n",
    "% matplotlib inline"
   ]
  },
  {
   "cell_type": "markdown",
   "metadata": {},
   "source": [
    "Load in the data and check the variables"
   ]
  },
  {
   "cell_type": "code",
   "execution_count": 150,
   "metadata": {},
   "outputs": [
    {
     "data": {
      "text/html": [
       "<div>\n",
       "<style scoped>\n",
       "    .dataframe tbody tr th:only-of-type {\n",
       "        vertical-align: middle;\n",
       "    }\n",
       "\n",
       "    .dataframe tbody tr th {\n",
       "        vertical-align: top;\n",
       "    }\n",
       "\n",
       "    .dataframe thead th {\n",
       "        text-align: right;\n",
       "    }\n",
       "</style>\n",
       "<table border=\"1\" class=\"dataframe\">\n",
       "  <thead>\n",
       "    <tr style=\"text-align: right;\">\n",
       "      <th></th>\n",
       "      <th>PatientId</th>\n",
       "      <th>AppointmentID</th>\n",
       "      <th>Gender</th>\n",
       "      <th>ScheduledDay</th>\n",
       "      <th>AppointmentDay</th>\n",
       "      <th>Age</th>\n",
       "      <th>Neighbourhood</th>\n",
       "      <th>Scholarship</th>\n",
       "      <th>Hipertension</th>\n",
       "      <th>Diabetes</th>\n",
       "      <th>Alcoholism</th>\n",
       "      <th>Handcap</th>\n",
       "      <th>SMS_received</th>\n",
       "      <th>No-show</th>\n",
       "    </tr>\n",
       "  </thead>\n",
       "  <tbody>\n",
       "    <tr>\n",
       "      <th>0</th>\n",
       "      <td>2.987250e+13</td>\n",
       "      <td>5642903</td>\n",
       "      <td>F</td>\n",
       "      <td>2016-04-29T18:38:08Z</td>\n",
       "      <td>2016-04-29T00:00:00Z</td>\n",
       "      <td>62</td>\n",
       "      <td>JARDIM DA PENHA</td>\n",
       "      <td>0</td>\n",
       "      <td>1</td>\n",
       "      <td>0</td>\n",
       "      <td>0</td>\n",
       "      <td>0</td>\n",
       "      <td>0</td>\n",
       "      <td>No</td>\n",
       "    </tr>\n",
       "    <tr>\n",
       "      <th>1</th>\n",
       "      <td>5.589978e+14</td>\n",
       "      <td>5642503</td>\n",
       "      <td>M</td>\n",
       "      <td>2016-04-29T16:08:27Z</td>\n",
       "      <td>2016-04-29T00:00:00Z</td>\n",
       "      <td>56</td>\n",
       "      <td>JARDIM DA PENHA</td>\n",
       "      <td>0</td>\n",
       "      <td>0</td>\n",
       "      <td>0</td>\n",
       "      <td>0</td>\n",
       "      <td>0</td>\n",
       "      <td>0</td>\n",
       "      <td>No</td>\n",
       "    </tr>\n",
       "    <tr>\n",
       "      <th>2</th>\n",
       "      <td>4.262962e+12</td>\n",
       "      <td>5642549</td>\n",
       "      <td>F</td>\n",
       "      <td>2016-04-29T16:19:04Z</td>\n",
       "      <td>2016-04-29T00:00:00Z</td>\n",
       "      <td>62</td>\n",
       "      <td>MATA DA PRAIA</td>\n",
       "      <td>0</td>\n",
       "      <td>0</td>\n",
       "      <td>0</td>\n",
       "      <td>0</td>\n",
       "      <td>0</td>\n",
       "      <td>0</td>\n",
       "      <td>No</td>\n",
       "    </tr>\n",
       "    <tr>\n",
       "      <th>3</th>\n",
       "      <td>8.679512e+11</td>\n",
       "      <td>5642828</td>\n",
       "      <td>F</td>\n",
       "      <td>2016-04-29T17:29:31Z</td>\n",
       "      <td>2016-04-29T00:00:00Z</td>\n",
       "      <td>8</td>\n",
       "      <td>PONTAL DE CAMBURI</td>\n",
       "      <td>0</td>\n",
       "      <td>0</td>\n",
       "      <td>0</td>\n",
       "      <td>0</td>\n",
       "      <td>0</td>\n",
       "      <td>0</td>\n",
       "      <td>No</td>\n",
       "    </tr>\n",
       "    <tr>\n",
       "      <th>4</th>\n",
       "      <td>8.841186e+12</td>\n",
       "      <td>5642494</td>\n",
       "      <td>F</td>\n",
       "      <td>2016-04-29T16:07:23Z</td>\n",
       "      <td>2016-04-29T00:00:00Z</td>\n",
       "      <td>56</td>\n",
       "      <td>JARDIM DA PENHA</td>\n",
       "      <td>0</td>\n",
       "      <td>1</td>\n",
       "      <td>1</td>\n",
       "      <td>0</td>\n",
       "      <td>0</td>\n",
       "      <td>0</td>\n",
       "      <td>No</td>\n",
       "    </tr>\n",
       "  </tbody>\n",
       "</table>\n",
       "</div>"
      ],
      "text/plain": [
       "      PatientId  AppointmentID Gender          ScheduledDay  \\\n",
       "0  2.987250e+13        5642903      F  2016-04-29T18:38:08Z   \n",
       "1  5.589978e+14        5642503      M  2016-04-29T16:08:27Z   \n",
       "2  4.262962e+12        5642549      F  2016-04-29T16:19:04Z   \n",
       "3  8.679512e+11        5642828      F  2016-04-29T17:29:31Z   \n",
       "4  8.841186e+12        5642494      F  2016-04-29T16:07:23Z   \n",
       "\n",
       "         AppointmentDay  Age      Neighbourhood  Scholarship  Hipertension  \\\n",
       "0  2016-04-29T00:00:00Z   62    JARDIM DA PENHA            0             1   \n",
       "1  2016-04-29T00:00:00Z   56    JARDIM DA PENHA            0             0   \n",
       "2  2016-04-29T00:00:00Z   62      MATA DA PRAIA            0             0   \n",
       "3  2016-04-29T00:00:00Z    8  PONTAL DE CAMBURI            0             0   \n",
       "4  2016-04-29T00:00:00Z   56    JARDIM DA PENHA            0             1   \n",
       "\n",
       "   Diabetes  Alcoholism  Handcap  SMS_received No-show  \n",
       "0         0           0        0             0      No  \n",
       "1         0           0        0             0      No  \n",
       "2         0           0        0             0      No  \n",
       "3         0           0        0             0      No  \n",
       "4         1           0        0             0      No  "
      ]
     },
     "execution_count": 150,
     "metadata": {},
     "output_type": "execute_result"
    }
   ],
   "source": [
    "# load data and view a few lines\n",
    "df = pd.read_csv('noshow.csv')\n",
    "df.head()"
   ]
  },
  {
   "cell_type": "markdown",
   "metadata": {},
   "source": [
    "Rename the columns to contain uniform lower case letters and use '_' instead of '-'"
   ]
  },
  {
   "cell_type": "code",
   "execution_count": 151,
   "metadata": {},
   "outputs": [
    {
     "data": {
      "text/plain": [
       "Index(['patientid', 'appointmentid', 'gender', 'scheduledday',\n",
       "       'appointmentday', 'age', 'neighbourhood', 'scholarship', 'hipertension',\n",
       "       'diabetes', 'alcoholism', 'handcap', 'sms_received', 'no_show'],\n",
       "      dtype='object')"
      ]
     },
     "execution_count": 151,
     "metadata": {},
     "output_type": "execute_result"
    }
   ],
   "source": [
    "# rename columns\n",
    "df.rename(columns=lambda x: x.replace(\"-\", \"_\").lower(), inplace=True)\n",
    "df.columns"
   ]
  },
  {
   "cell_type": "markdown",
   "metadata": {},
   "source": [
    "View the shape of the data (number of records) - there are about 110k records in this dataset and 14 variables."
   ]
  },
  {
   "cell_type": "code",
   "execution_count": 152,
   "metadata": {},
   "outputs": [
    {
     "data": {
      "text/plain": [
       "(110527, 14)"
      ]
     },
     "execution_count": 152,
     "metadata": {},
     "output_type": "execute_result"
    }
   ],
   "source": [
    "df.shape"
   ]
  },
  {
   "cell_type": "markdown",
   "metadata": {},
   "source": [
    "Check for missing values and the data types of the columns - there are 110527 total rows, and from the information about the data frame, no columns have null entries."
   ]
  },
  {
   "cell_type": "code",
   "execution_count": 153,
   "metadata": {},
   "outputs": [
    {
     "name": "stdout",
     "output_type": "stream",
     "text": [
      "<class 'pandas.core.frame.DataFrame'>\n",
      "RangeIndex: 110527 entries, 0 to 110526\n",
      "Data columns (total 14 columns):\n",
      "patientid         110527 non-null float64\n",
      "appointmentid     110527 non-null int64\n",
      "gender            110527 non-null object\n",
      "scheduledday      110527 non-null object\n",
      "appointmentday    110527 non-null object\n",
      "age               110527 non-null int64\n",
      "neighbourhood     110527 non-null object\n",
      "scholarship       110527 non-null int64\n",
      "hipertension      110527 non-null int64\n",
      "diabetes          110527 non-null int64\n",
      "alcoholism        110527 non-null int64\n",
      "handcap           110527 non-null int64\n",
      "sms_received      110527 non-null int64\n",
      "no_show           110527 non-null object\n",
      "dtypes: float64(1), int64(8), object(5)\n",
      "memory usage: 11.8+ MB\n"
     ]
    }
   ],
   "source": [
    "df.info()"
   ]
  },
  {
   "cell_type": "markdown",
   "metadata": {},
   "source": [
    "### Data Cleaning\n",
    "Check for the presence of duplicates in the data - verified that there are no duplicates in this dataset."
   ]
  },
  {
   "cell_type": "code",
   "execution_count": 154,
   "metadata": {},
   "outputs": [
    {
     "data": {
      "text/plain": [
       "0"
      ]
     },
     "execution_count": 154,
     "metadata": {},
     "output_type": "execute_result"
    }
   ],
   "source": [
    "sum(df.duplicated())"
   ]
  },
  {
   "cell_type": "markdown",
   "metadata": {},
   "source": [
    "Check the variables to see if any values don't make sense"
   ]
  },
  {
   "cell_type": "code",
   "execution_count": 155,
   "metadata": {},
   "outputs": [
    {
     "data": {
      "text/plain": [
       "F    71840\n",
       "M    38687\n",
       "Name: gender, dtype: int64"
      ]
     },
     "execution_count": 155,
     "metadata": {},
     "output_type": "execute_result"
    }
   ],
   "source": [
    "# gender\n",
    "df['gender'].value_counts()"
   ]
  },
  {
   "cell_type": "code",
   "execution_count": 156,
   "metadata": {},
   "outputs": [
    {
     "data": {
      "text/plain": [
       "count    110527.000000\n",
       "mean         37.088874\n",
       "std          23.110205\n",
       "min          -1.000000\n",
       "25%          18.000000\n",
       "50%          37.000000\n",
       "75%          55.000000\n",
       "max         115.000000\n",
       "Name: age, dtype: float64"
      ]
     },
     "execution_count": 156,
     "metadata": {},
     "output_type": "execute_result"
    }
   ],
   "source": [
    "# age\n",
    "df['age'].describe()"
   ]
  },
  {
   "cell_type": "markdown",
   "metadata": {},
   "source": [
    "There is at least one negative age value which is incorrect."
   ]
  },
  {
   "cell_type": "code",
   "execution_count": 157,
   "metadata": {},
   "outputs": [
    {
     "data": {
      "text/html": [
       "<div>\n",
       "<style scoped>\n",
       "    .dataframe tbody tr th:only-of-type {\n",
       "        vertical-align: middle;\n",
       "    }\n",
       "\n",
       "    .dataframe tbody tr th {\n",
       "        vertical-align: top;\n",
       "    }\n",
       "\n",
       "    .dataframe thead th {\n",
       "        text-align: right;\n",
       "    }\n",
       "</style>\n",
       "<table border=\"1\" class=\"dataframe\">\n",
       "  <thead>\n",
       "    <tr style=\"text-align: right;\">\n",
       "      <th></th>\n",
       "      <th>patientid</th>\n",
       "      <th>appointmentid</th>\n",
       "      <th>gender</th>\n",
       "      <th>scheduledday</th>\n",
       "      <th>appointmentday</th>\n",
       "      <th>age</th>\n",
       "      <th>neighbourhood</th>\n",
       "      <th>scholarship</th>\n",
       "      <th>hipertension</th>\n",
       "      <th>diabetes</th>\n",
       "      <th>alcoholism</th>\n",
       "      <th>handcap</th>\n",
       "      <th>sms_received</th>\n",
       "      <th>no_show</th>\n",
       "    </tr>\n",
       "  </thead>\n",
       "  <tbody>\n",
       "    <tr>\n",
       "      <th>99832</th>\n",
       "      <td>4.659432e+14</td>\n",
       "      <td>5775010</td>\n",
       "      <td>F</td>\n",
       "      <td>2016-06-06T08:58:13Z</td>\n",
       "      <td>2016-06-06T00:00:00Z</td>\n",
       "      <td>-1</td>\n",
       "      <td>ROMÃO</td>\n",
       "      <td>0</td>\n",
       "      <td>0</td>\n",
       "      <td>0</td>\n",
       "      <td>0</td>\n",
       "      <td>0</td>\n",
       "      <td>0</td>\n",
       "      <td>No</td>\n",
       "    </tr>\n",
       "  </tbody>\n",
       "</table>\n",
       "</div>"
      ],
      "text/plain": [
       "          patientid  appointmentid gender          scheduledday  \\\n",
       "99832  4.659432e+14        5775010      F  2016-06-06T08:58:13Z   \n",
       "\n",
       "             appointmentday  age neighbourhood  scholarship  hipertension  \\\n",
       "99832  2016-06-06T00:00:00Z   -1         ROMÃO            0             0   \n",
       "\n",
       "       diabetes  alcoholism  handcap  sms_received no_show  \n",
       "99832         0           0        0             0      No  "
      ]
     },
     "execution_count": 157,
     "metadata": {},
     "output_type": "execute_result"
    }
   ],
   "source": [
    "df[df['age'] < 0]"
   ]
  },
  {
   "cell_type": "code",
   "execution_count": 158,
   "metadata": {},
   "outputs": [
    {
     "data": {
      "text/plain": [
       "count    110527.000000\n",
       "mean         37.088883\n",
       "std          23.110190\n",
       "min           0.000000\n",
       "25%          18.000000\n",
       "50%          37.000000\n",
       "75%          55.000000\n",
       "max         115.000000\n",
       "Name: age, dtype: float64"
      ]
     },
     "execution_count": 158,
     "metadata": {},
     "output_type": "execute_result"
    }
   ],
   "source": [
    "# set the negative value to 0\n",
    "df.loc[df['age'] < 0, 'age'] = 0\n",
    "\n",
    "# now the minimum age value is 0\n",
    "df['age'].describe()"
   ]
  },
  {
   "cell_type": "code",
   "execution_count": 159,
   "metadata": {},
   "outputs": [
    {
     "data": {
      "text/plain": [
       "JARDIM CAMBURI       7717\n",
       "MARIA ORTIZ          5805\n",
       "RESISTÊNCIA          4431\n",
       "JARDIM DA PENHA      3877\n",
       "ITARARÉ              3514\n",
       "CENTRO               3334\n",
       "TABUAZEIRO           3132\n",
       "SANTA MARTHA         3131\n",
       "JESUS DE NAZARETH    2853\n",
       "BONFIM               2773\n",
       "SANTO ANTÔNIO        2746\n",
       "SANTO ANDRÉ          2571\n",
       "CARATOÍRA            2565\n",
       "JABOUR               2509\n",
       "SÃO PEDRO            2448\n",
       "Name: neighbourhood, dtype: int64"
      ]
     },
     "execution_count": 159,
     "metadata": {},
     "output_type": "execute_result"
    }
   ],
   "source": [
    "# neighbourhood\n",
    "df['neighbourhood'].value_counts().head(15)"
   ]
  },
  {
   "cell_type": "code",
   "execution_count": 160,
   "metadata": {},
   "outputs": [
    {
     "name": "stdout",
     "output_type": "stream",
     "text": [
      "0    99666\n",
      "1    10861\n",
      "Name: scholarship, dtype: int64 \n",
      "\n",
      "0    88726\n",
      "1    21801\n",
      "Name: hipertension, dtype: int64 \n",
      "\n",
      "0    102584\n",
      "1      7943\n",
      "Name: diabetes, dtype: int64 \n",
      "\n",
      "0    107167\n",
      "1      3360\n",
      "Name: alcoholism, dtype: int64 \n",
      "\n",
      "0    108286\n",
      "1      2042\n",
      "2       183\n",
      "3        13\n",
      "4         3\n",
      "Name: handcap, dtype: int64 \n",
      "\n",
      "0    75045\n",
      "1    35482\n",
      "Name: sms_received, dtype: int64\n"
     ]
    }
   ],
   "source": [
    "# other binary/levelled factors\n",
    "print(df['scholarship'].value_counts(), '\\n')\n",
    "print(df['hipertension'].value_counts(), '\\n')\n",
    "print(df['diabetes'].value_counts(), '\\n')\n",
    "print(df['alcoholism'].value_counts(), '\\n')\n",
    "print(df['handcap'].value_counts(), '\\n')\n",
    "print(df['sms_received'].value_counts())"
   ]
  },
  {
   "cell_type": "markdown",
   "metadata": {},
   "source": [
    "Some of the variables won't relevant to the analysis, such as patient ID and appointment ID. As such, they will be removed from the data frame."
   ]
  },
  {
   "cell_type": "code",
   "execution_count": 161,
   "metadata": {},
   "outputs": [
    {
     "data": {
      "text/plain": [
       "Index(['gender', 'scheduledday', 'appointmentday', 'age', 'neighbourhood',\n",
       "       'scholarship', 'hipertension', 'diabetes', 'alcoholism', 'handcap',\n",
       "       'sms_received', 'no_show'],\n",
       "      dtype='object')"
      ]
     },
     "execution_count": 161,
     "metadata": {},
     "output_type": "execute_result"
    }
   ],
   "source": [
    "# drop unused columns\n",
    "df = df.drop(['patientid', 'appointmentid'], axis=1)\n",
    "df.columns"
   ]
  },
  {
   "cell_type": "markdown",
   "metadata": {},
   "source": [
    "Convert the 'scheduled day' and 'appointment day' values to datetime objects, then create a variable that is the difference in time between the two dates. Since the 'appointment date' is uniform at 00:00, the hour will be dropped from the 'scheduled date' to simplify the analysis."
   ]
  },
  {
   "cell_type": "code",
   "execution_count": 162,
   "metadata": {},
   "outputs": [
    {
     "name": "stdout",
     "output_type": "stream",
     "text": [
      "<class 'pandas.core.frame.DataFrame'>\n",
      "RangeIndex: 110527 entries, 0 to 110526\n",
      "Data columns (total 15 columns):\n",
      "gender              110527 non-null object\n",
      "scheduledday        110527 non-null object\n",
      "appointmentday      110527 non-null object\n",
      "age                 110527 non-null int64\n",
      "neighbourhood       110527 non-null object\n",
      "scholarship         110527 non-null int64\n",
      "hipertension        110527 non-null int64\n",
      "diabetes            110527 non-null int64\n",
      "alcoholism          110527 non-null int64\n",
      "handcap             110527 non-null int64\n",
      "sms_received        110527 non-null int64\n",
      "no_show             110527 non-null object\n",
      "scheduled_date      110527 non-null object\n",
      "appointment_date    110527 non-null object\n",
      "time_delta          110527 non-null int32\n",
      "dtypes: int32(1), int64(7), object(7)\n",
      "memory usage: 12.2+ MB\n"
     ]
    }
   ],
   "source": [
    "# convert both datetime strings to datetime types\n",
    "df['scheduled_date'] = pd.to_datetime(df['scheduledday']).dt.date\n",
    "df['appointment_date'] = pd.to_datetime(df['appointmentday']).dt.date\n",
    "\n",
    "# calculate the difference between appointment date and scheduled date\n",
    "df['time_delta'] = df['appointment_date'] - df['scheduled_date']\n",
    "\n",
    "# since the difference is a timedelta object, convert it to int\n",
    "# https://stackoverflow.com/questions/18215317/extracting-days-from-a-numpy-timedelta64-value\n",
    "df['time_delta'] = df['time_delta'].dt.days.astype(int)\n",
    "\n",
    "# check the new columns are the right datatypes\n",
    "df.info()"
   ]
  },
  {
   "cell_type": "markdown",
   "metadata": {},
   "source": [
    "Check the values of the time delta variable"
   ]
  },
  {
   "cell_type": "code",
   "execution_count": 163,
   "metadata": {},
   "outputs": [
    {
     "data": {
      "text/plain": [
       "count    110527.000000\n",
       "mean         10.183702\n",
       "std          15.254996\n",
       "min          -6.000000\n",
       "25%           0.000000\n",
       "50%           4.000000\n",
       "75%          15.000000\n",
       "max         179.000000\n",
       "Name: time_delta, dtype: float64"
      ]
     },
     "execution_count": 163,
     "metadata": {},
     "output_type": "execute_result"
    }
   ],
   "source": [
    "df['time_delta'].describe()"
   ]
  },
  {
   "cell_type": "markdown",
   "metadata": {},
   "source": [
    "There seems to be some entries where the appointment date is before the scheduled date, which is not the normal expectation. "
   ]
  },
  {
   "cell_type": "code",
   "execution_count": 164,
   "metadata": {},
   "outputs": [
    {
     "data": {
      "text/html": [
       "<div>\n",
       "<style scoped>\n",
       "    .dataframe tbody tr th:only-of-type {\n",
       "        vertical-align: middle;\n",
       "    }\n",
       "\n",
       "    .dataframe tbody tr th {\n",
       "        vertical-align: top;\n",
       "    }\n",
       "\n",
       "    .dataframe thead th {\n",
       "        text-align: right;\n",
       "    }\n",
       "</style>\n",
       "<table border=\"1\" class=\"dataframe\">\n",
       "  <thead>\n",
       "    <tr style=\"text-align: right;\">\n",
       "      <th></th>\n",
       "      <th>gender</th>\n",
       "      <th>scheduledday</th>\n",
       "      <th>appointmentday</th>\n",
       "      <th>age</th>\n",
       "      <th>neighbourhood</th>\n",
       "      <th>scholarship</th>\n",
       "      <th>hipertension</th>\n",
       "      <th>diabetes</th>\n",
       "      <th>alcoholism</th>\n",
       "      <th>handcap</th>\n",
       "      <th>sms_received</th>\n",
       "      <th>no_show</th>\n",
       "      <th>scheduled_date</th>\n",
       "      <th>appointment_date</th>\n",
       "      <th>time_delta</th>\n",
       "    </tr>\n",
       "  </thead>\n",
       "  <tbody>\n",
       "    <tr>\n",
       "      <th>27033</th>\n",
       "      <td>M</td>\n",
       "      <td>2016-05-10T10:51:53Z</td>\n",
       "      <td>2016-05-09T00:00:00Z</td>\n",
       "      <td>38</td>\n",
       "      <td>RESISTÊNCIA</td>\n",
       "      <td>0</td>\n",
       "      <td>0</td>\n",
       "      <td>0</td>\n",
       "      <td>0</td>\n",
       "      <td>1</td>\n",
       "      <td>0</td>\n",
       "      <td>Yes</td>\n",
       "      <td>2016-05-10</td>\n",
       "      <td>2016-05-09</td>\n",
       "      <td>-1</td>\n",
       "    </tr>\n",
       "    <tr>\n",
       "      <th>55226</th>\n",
       "      <td>F</td>\n",
       "      <td>2016-05-18T14:50:41Z</td>\n",
       "      <td>2016-05-17T00:00:00Z</td>\n",
       "      <td>19</td>\n",
       "      <td>SANTO ANTÔNIO</td>\n",
       "      <td>0</td>\n",
       "      <td>0</td>\n",
       "      <td>0</td>\n",
       "      <td>0</td>\n",
       "      <td>1</td>\n",
       "      <td>0</td>\n",
       "      <td>Yes</td>\n",
       "      <td>2016-05-18</td>\n",
       "      <td>2016-05-17</td>\n",
       "      <td>-1</td>\n",
       "    </tr>\n",
       "    <tr>\n",
       "      <th>64175</th>\n",
       "      <td>F</td>\n",
       "      <td>2016-05-05T13:43:58Z</td>\n",
       "      <td>2016-05-04T00:00:00Z</td>\n",
       "      <td>22</td>\n",
       "      <td>CONSOLAÇÃO</td>\n",
       "      <td>0</td>\n",
       "      <td>0</td>\n",
       "      <td>0</td>\n",
       "      <td>0</td>\n",
       "      <td>0</td>\n",
       "      <td>0</td>\n",
       "      <td>Yes</td>\n",
       "      <td>2016-05-05</td>\n",
       "      <td>2016-05-04</td>\n",
       "      <td>-1</td>\n",
       "    </tr>\n",
       "    <tr>\n",
       "      <th>71533</th>\n",
       "      <td>F</td>\n",
       "      <td>2016-05-11T13:49:20Z</td>\n",
       "      <td>2016-05-05T00:00:00Z</td>\n",
       "      <td>81</td>\n",
       "      <td>SANTO ANTÔNIO</td>\n",
       "      <td>0</td>\n",
       "      <td>0</td>\n",
       "      <td>0</td>\n",
       "      <td>0</td>\n",
       "      <td>0</td>\n",
       "      <td>0</td>\n",
       "      <td>Yes</td>\n",
       "      <td>2016-05-11</td>\n",
       "      <td>2016-05-05</td>\n",
       "      <td>-6</td>\n",
       "    </tr>\n",
       "    <tr>\n",
       "      <th>72362</th>\n",
       "      <td>M</td>\n",
       "      <td>2016-05-04T06:50:57Z</td>\n",
       "      <td>2016-05-03T00:00:00Z</td>\n",
       "      <td>7</td>\n",
       "      <td>TABUAZEIRO</td>\n",
       "      <td>0</td>\n",
       "      <td>0</td>\n",
       "      <td>0</td>\n",
       "      <td>0</td>\n",
       "      <td>0</td>\n",
       "      <td>0</td>\n",
       "      <td>Yes</td>\n",
       "      <td>2016-05-04</td>\n",
       "      <td>2016-05-03</td>\n",
       "      <td>-1</td>\n",
       "    </tr>\n",
       "  </tbody>\n",
       "</table>\n",
       "</div>"
      ],
      "text/plain": [
       "      gender          scheduledday        appointmentday  age  neighbourhood  \\\n",
       "27033      M  2016-05-10T10:51:53Z  2016-05-09T00:00:00Z   38    RESISTÊNCIA   \n",
       "55226      F  2016-05-18T14:50:41Z  2016-05-17T00:00:00Z   19  SANTO ANTÔNIO   \n",
       "64175      F  2016-05-05T13:43:58Z  2016-05-04T00:00:00Z   22     CONSOLAÇÃO   \n",
       "71533      F  2016-05-11T13:49:20Z  2016-05-05T00:00:00Z   81  SANTO ANTÔNIO   \n",
       "72362      M  2016-05-04T06:50:57Z  2016-05-03T00:00:00Z    7     TABUAZEIRO   \n",
       "\n",
       "       scholarship  hipertension  diabetes  alcoholism  handcap  sms_received  \\\n",
       "27033            0             0         0           0        1             0   \n",
       "55226            0             0         0           0        1             0   \n",
       "64175            0             0         0           0        0             0   \n",
       "71533            0             0         0           0        0             0   \n",
       "72362            0             0         0           0        0             0   \n",
       "\n",
       "      no_show scheduled_date appointment_date  time_delta  \n",
       "27033     Yes     2016-05-10       2016-05-09          -1  \n",
       "55226     Yes     2016-05-18       2016-05-17          -1  \n",
       "64175     Yes     2016-05-05       2016-05-04          -1  \n",
       "71533     Yes     2016-05-11       2016-05-05          -6  \n",
       "72362     Yes     2016-05-04       2016-05-03          -1  "
      ]
     },
     "execution_count": 164,
     "metadata": {},
     "output_type": "execute_result"
    }
   ],
   "source": [
    "# check records where the time delta is negative \n",
    "df[df['time_delta'] < 0]"
   ]
  },
  {
   "cell_type": "markdown",
   "metadata": {},
   "source": [
    "Since there only seems to be 5 cases, set the time delta to 0 - assume that the scheduled date and appointment date are the same (this is assuming that the originally provided scheduled date data has errors)"
   ]
  },
  {
   "cell_type": "code",
   "execution_count": 165,
   "metadata": {},
   "outputs": [
    {
     "data": {
      "text/plain": [
       "count    110527.000000\n",
       "mean         10.183792\n",
       "std          15.254924\n",
       "min           0.000000\n",
       "25%           0.000000\n",
       "50%           4.000000\n",
       "75%          15.000000\n",
       "max         179.000000\n",
       "Name: time_delta, dtype: float64"
      ]
     },
     "execution_count": 165,
     "metadata": {},
     "output_type": "execute_result"
    }
   ],
   "source": [
    "# set the negative values to 0\n",
    "df.loc[df['time_delta'] < 0, 'time_delta'] = 0\n",
    "\n",
    "# check for negative values\n",
    "df['time_delta'].describe()"
   ]
  },
  {
   "cell_type": "markdown",
   "metadata": {},
   "source": [
    "Verify the previous 5 entries with negative time deltas were replaced"
   ]
  },
  {
   "cell_type": "code",
   "execution_count": 166,
   "metadata": {},
   "outputs": [
    {
     "data": {
      "text/html": [
       "<div>\n",
       "<style scoped>\n",
       "    .dataframe tbody tr th:only-of-type {\n",
       "        vertical-align: middle;\n",
       "    }\n",
       "\n",
       "    .dataframe tbody tr th {\n",
       "        vertical-align: top;\n",
       "    }\n",
       "\n",
       "    .dataframe thead th {\n",
       "        text-align: right;\n",
       "    }\n",
       "</style>\n",
       "<table border=\"1\" class=\"dataframe\">\n",
       "  <thead>\n",
       "    <tr style=\"text-align: right;\">\n",
       "      <th></th>\n",
       "      <th>scheduled_date</th>\n",
       "      <th>appointment_date</th>\n",
       "      <th>time_delta</th>\n",
       "    </tr>\n",
       "  </thead>\n",
       "  <tbody>\n",
       "    <tr>\n",
       "      <th>27033</th>\n",
       "      <td>2016-05-10</td>\n",
       "      <td>2016-05-09</td>\n",
       "      <td>0</td>\n",
       "    </tr>\n",
       "    <tr>\n",
       "      <th>55226</th>\n",
       "      <td>2016-05-18</td>\n",
       "      <td>2016-05-17</td>\n",
       "      <td>0</td>\n",
       "    </tr>\n",
       "    <tr>\n",
       "      <th>64175</th>\n",
       "      <td>2016-05-05</td>\n",
       "      <td>2016-05-04</td>\n",
       "      <td>0</td>\n",
       "    </tr>\n",
       "    <tr>\n",
       "      <th>71533</th>\n",
       "      <td>2016-05-11</td>\n",
       "      <td>2016-05-05</td>\n",
       "      <td>0</td>\n",
       "    </tr>\n",
       "    <tr>\n",
       "      <th>72362</th>\n",
       "      <td>2016-05-04</td>\n",
       "      <td>2016-05-03</td>\n",
       "      <td>0</td>\n",
       "    </tr>\n",
       "  </tbody>\n",
       "</table>\n",
       "</div>"
      ],
      "text/plain": [
       "      scheduled_date appointment_date  time_delta\n",
       "27033     2016-05-10       2016-05-09           0\n",
       "55226     2016-05-18       2016-05-17           0\n",
       "64175     2016-05-05       2016-05-04           0\n",
       "71533     2016-05-11       2016-05-05           0\n",
       "72362     2016-05-04       2016-05-03           0"
      ]
     },
     "execution_count": 166,
     "metadata": {},
     "output_type": "execute_result"
    }
   ],
   "source": [
    "df.iloc[[27033, 55226, 64175, 71533, 72362],12:15]"
   ]
  },
  {
   "cell_type": "markdown",
   "metadata": {},
   "source": [
    "Now that the time difference in days has been calculated, can drop the columns for the date strings and datetime values"
   ]
  },
  {
   "cell_type": "code",
   "execution_count": 167,
   "metadata": {},
   "outputs": [
    {
     "data": {
      "text/plain": [
       "Index(['gender', 'age', 'neighbourhood', 'scholarship', 'hipertension',\n",
       "       'diabetes', 'alcoholism', 'handcap', 'sms_received', 'no_show',\n",
       "       'time_delta'],\n",
       "      dtype='object')"
      ]
     },
     "execution_count": 167,
     "metadata": {},
     "output_type": "execute_result"
    }
   ],
   "source": [
    "df = df.drop(['scheduledday', 'appointmentday', 'scheduled_date', 'appointment_date'], axis=1)\n",
    "df.columns"
   ]
  },
  {
   "cell_type": "markdown",
   "metadata": {},
   "source": [
    "<a id='eda'></a>\n",
    "## Exploratory Data Analysis\n",
    "\n",
    "Investigate the variables that are related to the no-show outcome in 4 sets:\n",
    "1. Time Delta (difference between appointment date and scheduled date)\n",
    "2. Gender and Age\n",
    "3. Neighbourhood\n",
    "4. Other binary/levelled factors (scholarship/welfare, hypertension, diabetes, alcoholism, handicap, sms_received)\n",
    "\n",
    "Before starting the investigation, first divide the dataset into 2 sets: one for kept appointments (no_show = 'No'), and the no-show appointments (no_show = 'Yes')"
   ]
  },
  {
   "cell_type": "code",
   "execution_count": 168,
   "metadata": {},
   "outputs": [],
   "source": [
    "pt_show = df[df['no_show'] == 'No']\n",
    "pt_noshow = df[df['no_show'] == 'Yes']"
   ]
  },
  {
   "cell_type": "markdown",
   "metadata": {},
   "source": [
    "Check the proportion of no-shows compared to the entire dataset of appointments:"
   ]
  },
  {
   "cell_type": "code",
   "execution_count": 169,
   "metadata": {},
   "outputs": [
    {
     "data": {
      "text/plain": [
       "0.20193255946510807"
      ]
     },
     "execution_count": 169,
     "metadata": {},
     "output_type": "execute_result"
    }
   ],
   "source": [
    "len(pt_noshow)/len(df)"
   ]
  },
  {
   "cell_type": "markdown",
   "metadata": {},
   "source": [
    "There is approximately a 20% no-show rate for the appointment data provided."
   ]
  },
  {
   "cell_type": "markdown",
   "metadata": {},
   "source": [
    "### Exploration 1 : Time Delta and No-Show Outcomes"
   ]
  },
  {
   "cell_type": "markdown",
   "metadata": {
    "collapsed": true
   },
   "source": [
    "Define 'Time' Delta as the difference in days between the appointment date and the scheduled date (when the appointment is made). \n",
    "\n",
    "View the distribution of time delta per show and no-show appointments - first through quartile analysis:"
   ]
  },
  {
   "cell_type": "code",
   "execution_count": 264,
   "metadata": {},
   "outputs": [
    {
     "data": {
      "text/plain": [
       "count    88208.000000\n",
       "mean         8.754659\n",
       "std         14.550398\n",
       "min          0.000000\n",
       "25%          0.000000\n",
       "50%          2.000000\n",
       "75%         12.000000\n",
       "max        179.000000\n",
       "Name: time_delta, dtype: float64"
      ]
     },
     "execution_count": 264,
     "metadata": {},
     "output_type": "execute_result"
    }
   ],
   "source": [
    "pt_show['time_delta'].describe()"
   ]
  },
  {
   "cell_type": "code",
   "execution_count": 265,
   "metadata": {},
   "outputs": [
    {
     "data": {
      "text/plain": [
       "count    22319.000000\n",
       "mean        15.831937\n",
       "std         16.605431\n",
       "min          0.000000\n",
       "25%          4.000000\n",
       "50%         11.000000\n",
       "75%         23.000000\n",
       "max        179.000000\n",
       "Name: time_delta, dtype: float64"
      ]
     },
     "execution_count": 265,
     "metadata": {},
     "output_type": "execute_result"
    }
   ],
   "source": [
    "pt_noshow['time_delta'].describe()"
   ]
  },
  {
   "cell_type": "markdown",
   "metadata": {},
   "source": [
    "The mean of the 'show' appointments (8.75) appear lower than the mean of the 'no-show' appointments (15.83). There also is a big difference between the upper quartile and the max values for both populations (upper quartile: 12 and 23 vs. max: 179"
   ]
  },
  {
   "cell_type": "markdown",
   "metadata": {},
   "source": [
    "Now, visualise the distribution for both show and no-show using box plots."
   ]
  },
  {
   "cell_type": "code",
   "execution_count": 277,
   "metadata": {},
   "outputs": [
    {
     "data": {
      "image/png": "[encoded data removed]",
      "text/plain": [
       "<Figure size 864x360 with 1 Axes>"
      ]
     },
     "metadata": {},
     "output_type": "display_data"
    }
   ],
   "source": [
    "# https://matplotlib.org/examples/pylab_examples/subplots_demo.html\n",
    "# https://matplotlib.org/api/_as_gen/matplotlib.pyplot.boxplot.html\n",
    "\n",
    "fig, ax = plt.subplots(figsize=(12,5))\n",
    "ax.boxplot([pt_show['time_delta'], pt_noshow['time_delta']], labels=['show', 'no-show'])\n",
    "\n",
    "plt.title('Distribution of Time Delta (Days Between Scheduled and Appointment Date) for Show and No-Show Appointments')\n",
    "plt.xlabel('Population')\n",
    "plt.ylabel('Time Delta (Days)');\n",
    "plt.show()"
   ]
  },
  {
   "cell_type": "markdown",
   "metadata": {},
   "source": [
    "The boxplot suggests that 'show' appointments have shorter time deltas compared to 'no-show' appointments.\n",
    "\n",
    "Since there are so many values for both populations that lie above the 75%, cannot conclude that those values are outliers."
   ]
  },
  {
   "cell_type": "markdown",
   "metadata": {},
   "source": [
    "Plot a histogram to view any differences in no-show outcomes depending on the time delta of the appointments. Since the no-show count is 20% of the the entire dataset, normalise the values to view the proportions of appointments as part of the show/no-show population."
   ]
  },
  {
   "cell_type": "code",
   "execution_count": 460,
   "metadata": {},
   "outputs": [
    {
     "data": {
      "image/png": "[encoded data removed]",
      "text/plain": [
       "<Figure size 1152x576 with 1 Axes>"
      ]
     },
     "metadata": {},
     "output_type": "display_data"
    }
   ],
   "source": [
    "# https://matplotlib.org/api/_as_gen/matplotlib.pyplot.hist.html\n",
    "# https://matplotlib.org/api/_as_gen/matplotlib.pyplot.figure.html\n",
    "# https://matplotlib.org/mpl_examples/color/named_colors.hires.png\n",
    "# https://matplotlib.org/api/_as_gen/matplotlib.pyplot.xticks.html\n",
    "\n",
    "# time bins up to 100 (after which data counts are low and won't be visible)\n",
    "age_bins = range(0, 100, 1)\n",
    "plt.figure(figsize=(16,8))\n",
    "plt.hist([pt_show['time_delta'], pt_noshow['time_delta']], color = ['cadetblue', 'salmon'], \\\n",
    "         bins=age_bins, label = ['show', 'no-show'], align='left', density=True);\n",
    "\n",
    "plt.xticks(range(0, 100, 5))\n",
    "plt.title('Normalised Distribution of Show and No-Show Appointments by Time Delta (Days Between Scheduled and Appointment Date)')\n",
    "plt.xlabel('Time Delta (Days)')\n",
    "plt.ylabel('Proportion of Appointments');\n",
    "plt.legend();"
   ]
  },
  {
   "cell_type": "markdown",
   "metadata": {},
   "source": [
    "Most show appointments appear to have a time delta of 0 days, which contributes to the lower time delta mean for that group."
   ]
  },
  {
   "cell_type": "markdown",
   "metadata": {},
   "source": [
    "### Exploration 2 : Age / Gender and No-Show Outcomes"
   ]
  },
  {
   "cell_type": "markdown",
   "metadata": {
    "collapsed": true
   },
   "source": [
    "Plot a histogram to view any overt differences in no-show outcomes depending on the age distribution for the patients. Again, normalise the proportions."
   ]
  },
  {
   "cell_type": "code",
   "execution_count": 463,
   "metadata": {},
   "outputs": [
    {
     "data": {
      "image/png": "[encoded data removed]",
      "text/plain": [
       "<Figure size 1152x360 with 1 Axes>"
      ]
     },
     "metadata": {},
     "output_type": "display_data"
    }
   ],
   "source": [
    "# age bins in increments of 5\n",
    "age_bins = range(0, 100, 1)\n",
    "plt.figure(figsize=(16,5))\n",
    "plt.hist([pt_show['age'], pt_noshow['age']], color = ['cadetblue', 'salmon'], \\\n",
    "         bins=age_bins, label = ['show', 'no-show'], density=True);\n",
    "\n",
    "plt.xticks(range(0, 100, 5))\n",
    "plt.title('Normalised Distribution of Show and No-Show Patients by Age')\n",
    "plt.xlabel('Age')\n",
    "plt.ylabel('Proportion of Appointments');\n",
    "plt.legend();"
   ]
  },
  {
   "cell_type": "markdown",
   "metadata": {},
   "source": [
    "From a quick glance at the distribution, it appears that no-shows happens more often for patients in the younger age ranges (ages 5 - 45). This reverses before the age of 5, and once the age is past 45, when the proportion of show appointments grow larger than the proportion of no-shows."
   ]
  },
  {
   "cell_type": "markdown",
   "metadata": {},
   "source": [
    "Similarly, view the normalised distribution of show and no-show patients by gender"
   ]
  },
  {
   "cell_type": "code",
   "execution_count": 244,
   "metadata": {},
   "outputs": [
    {
     "data": {
      "text/plain": [
       "<matplotlib.legend.Legend at 0x4ef86baa58>"
      ]
     },
     "execution_count": 244,
     "metadata": {},
     "output_type": "execute_result"
    },
    {
     "data": {
      "image/png": "[encoded data removed]",
      "text/plain": [
       "<Figure size 432x288 with 1 Axes>"
      ]
     },
     "metadata": {},
     "output_type": "display_data"
    }
   ],
   "source": [
    "gender_bins = range(4)\n",
    "plt.figure(figsize=(6,4))\n",
    "plt.hist([pt_show['gender'], pt_noshow['gender']], color = ['cadetblue', 'salmon'], \\\n",
    "         bins = gender_bins, label = ['show', 'no-show'], density=True, align='right');\n",
    "\n",
    "# set the xticks\n",
    "plt.xticks(np.arange(0,3), ['', 'Female', 'Male'])\n",
    "plt.title('Normalised Distribution of Show and No-Show Patients by Age')\n",
    "plt.xlabel('Gender')\n",
    "plt.ylabel('Proportion of Appointments');\n",
    "plt.legend()"
   ]
  },
  {
   "cell_type": "markdown",
   "metadata": {},
   "source": [
    "Beyond the larger proportion of female patients who make appointments, there doesn't seem to be much visual difference between show and no-show based on gender."
   ]
  },
  {
   "cell_type": "markdown",
   "metadata": {},
   "source": [
    "### Exploration 3 : Neighbourhood and No-Show Outcomes"
   ]
  },
  {
   "cell_type": "markdown",
   "metadata": {},
   "source": [
    "Using a bar plot, view the counts of show and no-show appointments depending on the neighbourhood.\n"
   ]
  },
  {
   "cell_type": "code",
   "execution_count": 300,
   "metadata": {},
   "outputs": [],
   "source": [
    "# get count of appointments by neighbourhood\n",
    "show_neighbourhoods = pt_show['neighbourhood'].value_counts()\n",
    "noshow_neighbourhoods = pt_noshow['neighbourhood'].value_counts()"
   ]
  },
  {
   "cell_type": "code",
   "execution_count": 313,
   "metadata": {},
   "outputs": [],
   "source": [
    "# get list of all neighbourhoods\n",
    "all_neighbourhoods = df['neighbourhood'].value_counts()\n",
    "all_index = all_neighbourhoods.index"
   ]
  },
  {
   "cell_type": "code",
   "execution_count": 335,
   "metadata": {},
   "outputs": [
    {
     "data": {
      "text/plain": [
       "<matplotlib.legend.Legend at 0x4e88254080>"
      ]
     },
     "execution_count": 335,
     "metadata": {},
     "output_type": "execute_result"
    },
    {
     "data": {
      "image/png": "[encoded data removed]",
      "text/plain": [
       "<Figure size 1152x432 with 1 Axes>"
      ]
     },
     "metadata": {},
     "output_type": "display_data"
    }
   ],
   "source": [
    "fig, ax = plt.subplots(figsize=(16,6))\n",
    "show_neighbourhoods[all_index].plot(kind='bar', color='cadetblue', label='show');\n",
    "noshow_neighbourhoods[all_index].plot(kind='bar', color='salmon', label='no-show');\n",
    "plt.title('Counts of Show and No-Show Appointments by Neighbourhood')\n",
    "plt.xlabel('Neighbourhood')\n",
    "plt.ylabel('Counts of Appointments');\n",
    "plt.legend()"
   ]
  },
  {
   "cell_type": "markdown",
   "metadata": {},
   "source": [
    "Unfortunately, there are many neighbourhoods and large counts, and so the proportion of no-show appointments is hard to view in this form. \n",
    "\n",
    "Alternatively, plot the proportions directly."
   ]
  },
  {
   "cell_type": "code",
   "execution_count": 336,
   "metadata": {},
   "outputs": [],
   "source": [
    "# calculate the proportion of no-shows by neighbourhood\n",
    "percent_neighbourhoods = noshow_neighbourhoods[all_index] / all_neighbourhoods[all_index]\n",
    "percent_neighbourhoods.sort_values(inplace=True) "
   ]
  },
  {
   "cell_type": "code",
   "execution_count": 338,
   "metadata": {},
   "outputs": [
    {
     "data": {
      "image/png": "[encoded data removed]",
      "text/plain": [
       "<Figure size 1152x432 with 1 Axes>"
      ]
     },
     "metadata": {},
     "output_type": "display_data"
    }
   ],
   "source": [
    "fig, ax = plt.subplots(figsize=(16,6))\n",
    "percent_neighbourhoods.plot(kind='bar', color='salmon')\n",
    "plt.title('Proportion of No-Show Appointments by Neighbourhood')\n",
    "plt.xlabel('Neighbourhood')\n",
    "plt.ylabel('Proportion of No-Shows');"
   ]
  },
  {
   "cell_type": "markdown",
   "metadata": {},
   "source": [
    "Investigate further several nieghbourhoods:\n",
    "- the lowest proportion for Ilha do Boi\n",
    "- 100% now show for Ilhas Oceânicas de Trindade\n",
    "- 0% for Parque Industrial"
   ]
  },
  {
   "cell_type": "code",
   "execution_count": 340,
   "metadata": {},
   "outputs": [
    {
     "data": {
      "text/plain": [
       "ILHA DO BOI       0.085714\n",
       "AEROPORTO         0.125000\n",
       "MÁRIO CYPRESTE    0.145553\n",
       "SOLON BORGES      0.147122\n",
       "DE LOURDES        0.154098\n",
       "Name: neighbourhood, dtype: float64"
      ]
     },
     "execution_count": 340,
     "metadata": {},
     "output_type": "execute_result"
    }
   ],
   "source": [
    "percent_neighbourhoods.head()"
   ]
  },
  {
   "cell_type": "code",
   "execution_count": 341,
   "metadata": {},
   "outputs": [
    {
     "data": {
      "text/html": [
       "<div>\n",
       "<style scoped>\n",
       "    .dataframe tbody tr th:only-of-type {\n",
       "        vertical-align: middle;\n",
       "    }\n",
       "\n",
       "    .dataframe tbody tr th {\n",
       "        vertical-align: top;\n",
       "    }\n",
       "\n",
       "    .dataframe thead th {\n",
       "        text-align: right;\n",
       "    }\n",
       "</style>\n",
       "<table border=\"1\" class=\"dataframe\">\n",
       "  <thead>\n",
       "    <tr style=\"text-align: right;\">\n",
       "      <th></th>\n",
       "      <th>gender</th>\n",
       "      <th>age</th>\n",
       "      <th>neighbourhood</th>\n",
       "      <th>scholarship</th>\n",
       "      <th>hipertension</th>\n",
       "      <th>diabetes</th>\n",
       "      <th>alcoholism</th>\n",
       "      <th>handcap</th>\n",
       "      <th>sms_received</th>\n",
       "      <th>no_show</th>\n",
       "      <th>time_delta</th>\n",
       "    </tr>\n",
       "  </thead>\n",
       "  <tbody>\n",
       "    <tr>\n",
       "      <th>1568</th>\n",
       "      <td>F</td>\n",
       "      <td>70</td>\n",
       "      <td>ILHA DO BOI</td>\n",
       "      <td>0</td>\n",
       "      <td>0</td>\n",
       "      <td>0</td>\n",
       "      <td>0</td>\n",
       "      <td>0</td>\n",
       "      <td>1</td>\n",
       "      <td>No</td>\n",
       "      <td>11</td>\n",
       "    </tr>\n",
       "    <tr>\n",
       "      <th>1575</th>\n",
       "      <td>F</td>\n",
       "      <td>57</td>\n",
       "      <td>ILHA DO BOI</td>\n",
       "      <td>0</td>\n",
       "      <td>0</td>\n",
       "      <td>0</td>\n",
       "      <td>0</td>\n",
       "      <td>0</td>\n",
       "      <td>1</td>\n",
       "      <td>Yes</td>\n",
       "      <td>14</td>\n",
       "    </tr>\n",
       "    <tr>\n",
       "      <th>2603</th>\n",
       "      <td>F</td>\n",
       "      <td>20</td>\n",
       "      <td>ILHA DO BOI</td>\n",
       "      <td>0</td>\n",
       "      <td>0</td>\n",
       "      <td>0</td>\n",
       "      <td>0</td>\n",
       "      <td>0</td>\n",
       "      <td>0</td>\n",
       "      <td>No</td>\n",
       "      <td>21</td>\n",
       "    </tr>\n",
       "    <tr>\n",
       "      <th>5324</th>\n",
       "      <td>M</td>\n",
       "      <td>73</td>\n",
       "      <td>ILHA DO BOI</td>\n",
       "      <td>0</td>\n",
       "      <td>0</td>\n",
       "      <td>0</td>\n",
       "      <td>0</td>\n",
       "      <td>0</td>\n",
       "      <td>0</td>\n",
       "      <td>No</td>\n",
       "      <td>2</td>\n",
       "    </tr>\n",
       "    <tr>\n",
       "      <th>5631</th>\n",
       "      <td>F</td>\n",
       "      <td>65</td>\n",
       "      <td>ILHA DO BOI</td>\n",
       "      <td>0</td>\n",
       "      <td>0</td>\n",
       "      <td>0</td>\n",
       "      <td>0</td>\n",
       "      <td>0</td>\n",
       "      <td>0</td>\n",
       "      <td>No</td>\n",
       "      <td>0</td>\n",
       "    </tr>\n",
       "    <tr>\n",
       "      <th>18199</th>\n",
       "      <td>M</td>\n",
       "      <td>33</td>\n",
       "      <td>ILHA DO BOI</td>\n",
       "      <td>0</td>\n",
       "      <td>0</td>\n",
       "      <td>0</td>\n",
       "      <td>0</td>\n",
       "      <td>0</td>\n",
       "      <td>0</td>\n",
       "      <td>No</td>\n",
       "      <td>0</td>\n",
       "    </tr>\n",
       "    <tr>\n",
       "      <th>27946</th>\n",
       "      <td>F</td>\n",
       "      <td>60</td>\n",
       "      <td>ILHA DO BOI</td>\n",
       "      <td>0</td>\n",
       "      <td>1</td>\n",
       "      <td>0</td>\n",
       "      <td>0</td>\n",
       "      <td>0</td>\n",
       "      <td>0</td>\n",
       "      <td>No</td>\n",
       "      <td>9</td>\n",
       "    </tr>\n",
       "    <tr>\n",
       "      <th>32876</th>\n",
       "      <td>F</td>\n",
       "      <td>31</td>\n",
       "      <td>ILHA DO BOI</td>\n",
       "      <td>0</td>\n",
       "      <td>0</td>\n",
       "      <td>0</td>\n",
       "      <td>0</td>\n",
       "      <td>0</td>\n",
       "      <td>0</td>\n",
       "      <td>No</td>\n",
       "      <td>0</td>\n",
       "    </tr>\n",
       "    <tr>\n",
       "      <th>32924</th>\n",
       "      <td>F</td>\n",
       "      <td>61</td>\n",
       "      <td>ILHA DO BOI</td>\n",
       "      <td>0</td>\n",
       "      <td>0</td>\n",
       "      <td>1</td>\n",
       "      <td>0</td>\n",
       "      <td>0</td>\n",
       "      <td>1</td>\n",
       "      <td>No</td>\n",
       "      <td>30</td>\n",
       "    </tr>\n",
       "    <tr>\n",
       "      <th>33635</th>\n",
       "      <td>M</td>\n",
       "      <td>73</td>\n",
       "      <td>ILHA DO BOI</td>\n",
       "      <td>0</td>\n",
       "      <td>0</td>\n",
       "      <td>0</td>\n",
       "      <td>0</td>\n",
       "      <td>0</td>\n",
       "      <td>0</td>\n",
       "      <td>No</td>\n",
       "      <td>2</td>\n",
       "    </tr>\n",
       "    <tr>\n",
       "      <th>35188</th>\n",
       "      <td>M</td>\n",
       "      <td>33</td>\n",
       "      <td>ILHA DO BOI</td>\n",
       "      <td>0</td>\n",
       "      <td>0</td>\n",
       "      <td>0</td>\n",
       "      <td>0</td>\n",
       "      <td>0</td>\n",
       "      <td>0</td>\n",
       "      <td>No</td>\n",
       "      <td>0</td>\n",
       "    </tr>\n",
       "    <tr>\n",
       "      <th>38409</th>\n",
       "      <td>M</td>\n",
       "      <td>64</td>\n",
       "      <td>ILHA DO BOI</td>\n",
       "      <td>0</td>\n",
       "      <td>1</td>\n",
       "      <td>1</td>\n",
       "      <td>0</td>\n",
       "      <td>0</td>\n",
       "      <td>0</td>\n",
       "      <td>No</td>\n",
       "      <td>2</td>\n",
       "    </tr>\n",
       "    <tr>\n",
       "      <th>38426</th>\n",
       "      <td>F</td>\n",
       "      <td>63</td>\n",
       "      <td>ILHA DO BOI</td>\n",
       "      <td>0</td>\n",
       "      <td>1</td>\n",
       "      <td>1</td>\n",
       "      <td>0</td>\n",
       "      <td>0</td>\n",
       "      <td>1</td>\n",
       "      <td>No</td>\n",
       "      <td>9</td>\n",
       "    </tr>\n",
       "    <tr>\n",
       "      <th>39791</th>\n",
       "      <td>F</td>\n",
       "      <td>20</td>\n",
       "      <td>ILHA DO BOI</td>\n",
       "      <td>0</td>\n",
       "      <td>0</td>\n",
       "      <td>0</td>\n",
       "      <td>0</td>\n",
       "      <td>0</td>\n",
       "      <td>0</td>\n",
       "      <td>Yes</td>\n",
       "      <td>1</td>\n",
       "    </tr>\n",
       "    <tr>\n",
       "      <th>51829</th>\n",
       "      <td>M</td>\n",
       "      <td>33</td>\n",
       "      <td>ILHA DO BOI</td>\n",
       "      <td>0</td>\n",
       "      <td>0</td>\n",
       "      <td>0</td>\n",
       "      <td>0</td>\n",
       "      <td>0</td>\n",
       "      <td>0</td>\n",
       "      <td>No</td>\n",
       "      <td>0</td>\n",
       "    </tr>\n",
       "    <tr>\n",
       "      <th>52041</th>\n",
       "      <td>M</td>\n",
       "      <td>33</td>\n",
       "      <td>ILHA DO BOI</td>\n",
       "      <td>0</td>\n",
       "      <td>0</td>\n",
       "      <td>0</td>\n",
       "      <td>0</td>\n",
       "      <td>0</td>\n",
       "      <td>0</td>\n",
       "      <td>No</td>\n",
       "      <td>0</td>\n",
       "    </tr>\n",
       "    <tr>\n",
       "      <th>57017</th>\n",
       "      <td>M</td>\n",
       "      <td>73</td>\n",
       "      <td>ILHA DO BOI</td>\n",
       "      <td>0</td>\n",
       "      <td>0</td>\n",
       "      <td>0</td>\n",
       "      <td>0</td>\n",
       "      <td>0</td>\n",
       "      <td>0</td>\n",
       "      <td>No</td>\n",
       "      <td>13</td>\n",
       "    </tr>\n",
       "    <tr>\n",
       "      <th>61808</th>\n",
       "      <td>M</td>\n",
       "      <td>33</td>\n",
       "      <td>ILHA DO BOI</td>\n",
       "      <td>0</td>\n",
       "      <td>0</td>\n",
       "      <td>0</td>\n",
       "      <td>0</td>\n",
       "      <td>0</td>\n",
       "      <td>0</td>\n",
       "      <td>No</td>\n",
       "      <td>0</td>\n",
       "    </tr>\n",
       "    <tr>\n",
       "      <th>61811</th>\n",
       "      <td>F</td>\n",
       "      <td>63</td>\n",
       "      <td>ILHA DO BOI</td>\n",
       "      <td>0</td>\n",
       "      <td>0</td>\n",
       "      <td>0</td>\n",
       "      <td>0</td>\n",
       "      <td>0</td>\n",
       "      <td>0</td>\n",
       "      <td>No</td>\n",
       "      <td>2</td>\n",
       "    </tr>\n",
       "    <tr>\n",
       "      <th>61813</th>\n",
       "      <td>F</td>\n",
       "      <td>57</td>\n",
       "      <td>ILHA DO BOI</td>\n",
       "      <td>0</td>\n",
       "      <td>0</td>\n",
       "      <td>0</td>\n",
       "      <td>0</td>\n",
       "      <td>0</td>\n",
       "      <td>0</td>\n",
       "      <td>No</td>\n",
       "      <td>6</td>\n",
       "    </tr>\n",
       "    <tr>\n",
       "      <th>61821</th>\n",
       "      <td>M</td>\n",
       "      <td>74</td>\n",
       "      <td>ILHA DO BOI</td>\n",
       "      <td>0</td>\n",
       "      <td>0</td>\n",
       "      <td>0</td>\n",
       "      <td>0</td>\n",
       "      <td>0</td>\n",
       "      <td>0</td>\n",
       "      <td>No</td>\n",
       "      <td>1</td>\n",
       "    </tr>\n",
       "    <tr>\n",
       "      <th>61829</th>\n",
       "      <td>F</td>\n",
       "      <td>46</td>\n",
       "      <td>ILHA DO BOI</td>\n",
       "      <td>0</td>\n",
       "      <td>0</td>\n",
       "      <td>0</td>\n",
       "      <td>0</td>\n",
       "      <td>0</td>\n",
       "      <td>0</td>\n",
       "      <td>No</td>\n",
       "      <td>2</td>\n",
       "    </tr>\n",
       "    <tr>\n",
       "      <th>61833</th>\n",
       "      <td>F</td>\n",
       "      <td>57</td>\n",
       "      <td>ILHA DO BOI</td>\n",
       "      <td>0</td>\n",
       "      <td>0</td>\n",
       "      <td>0</td>\n",
       "      <td>0</td>\n",
       "      <td>0</td>\n",
       "      <td>0</td>\n",
       "      <td>No</td>\n",
       "      <td>1</td>\n",
       "    </tr>\n",
       "    <tr>\n",
       "      <th>61839</th>\n",
       "      <td>F</td>\n",
       "      <td>31</td>\n",
       "      <td>ILHA DO BOI</td>\n",
       "      <td>0</td>\n",
       "      <td>0</td>\n",
       "      <td>0</td>\n",
       "      <td>0</td>\n",
       "      <td>0</td>\n",
       "      <td>0</td>\n",
       "      <td>No</td>\n",
       "      <td>0</td>\n",
       "    </tr>\n",
       "    <tr>\n",
       "      <th>61852</th>\n",
       "      <td>M</td>\n",
       "      <td>24</td>\n",
       "      <td>ILHA DO BOI</td>\n",
       "      <td>0</td>\n",
       "      <td>0</td>\n",
       "      <td>0</td>\n",
       "      <td>0</td>\n",
       "      <td>0</td>\n",
       "      <td>0</td>\n",
       "      <td>No</td>\n",
       "      <td>0</td>\n",
       "    </tr>\n",
       "    <tr>\n",
       "      <th>62010</th>\n",
       "      <td>F</td>\n",
       "      <td>65</td>\n",
       "      <td>ILHA DO BOI</td>\n",
       "      <td>0</td>\n",
       "      <td>0</td>\n",
       "      <td>0</td>\n",
       "      <td>0</td>\n",
       "      <td>0</td>\n",
       "      <td>1</td>\n",
       "      <td>No</td>\n",
       "      <td>6</td>\n",
       "    </tr>\n",
       "    <tr>\n",
       "      <th>62035</th>\n",
       "      <td>F</td>\n",
       "      <td>31</td>\n",
       "      <td>ILHA DO BOI</td>\n",
       "      <td>0</td>\n",
       "      <td>0</td>\n",
       "      <td>0</td>\n",
       "      <td>0</td>\n",
       "      <td>0</td>\n",
       "      <td>0</td>\n",
       "      <td>No</td>\n",
       "      <td>0</td>\n",
       "    </tr>\n",
       "    <tr>\n",
       "      <th>62040</th>\n",
       "      <td>F</td>\n",
       "      <td>31</td>\n",
       "      <td>ILHA DO BOI</td>\n",
       "      <td>0</td>\n",
       "      <td>0</td>\n",
       "      <td>0</td>\n",
       "      <td>0</td>\n",
       "      <td>0</td>\n",
       "      <td>0</td>\n",
       "      <td>Yes</td>\n",
       "      <td>0</td>\n",
       "    </tr>\n",
       "    <tr>\n",
       "      <th>72159</th>\n",
       "      <td>F</td>\n",
       "      <td>65</td>\n",
       "      <td>ILHA DO BOI</td>\n",
       "      <td>0</td>\n",
       "      <td>0</td>\n",
       "      <td>0</td>\n",
       "      <td>0</td>\n",
       "      <td>0</td>\n",
       "      <td>1</td>\n",
       "      <td>No</td>\n",
       "      <td>4</td>\n",
       "    </tr>\n",
       "    <tr>\n",
       "      <th>77829</th>\n",
       "      <td>M</td>\n",
       "      <td>66</td>\n",
       "      <td>ILHA DO BOI</td>\n",
       "      <td>0</td>\n",
       "      <td>0</td>\n",
       "      <td>0</td>\n",
       "      <td>0</td>\n",
       "      <td>0</td>\n",
       "      <td>0</td>\n",
       "      <td>No</td>\n",
       "      <td>0</td>\n",
       "    </tr>\n",
       "    <tr>\n",
       "      <th>87587</th>\n",
       "      <td>M</td>\n",
       "      <td>22</td>\n",
       "      <td>ILHA DO BOI</td>\n",
       "      <td>0</td>\n",
       "      <td>0</td>\n",
       "      <td>0</td>\n",
       "      <td>0</td>\n",
       "      <td>0</td>\n",
       "      <td>0</td>\n",
       "      <td>No</td>\n",
       "      <td>1</td>\n",
       "    </tr>\n",
       "    <tr>\n",
       "      <th>92095</th>\n",
       "      <td>M</td>\n",
       "      <td>24</td>\n",
       "      <td>ILHA DO BOI</td>\n",
       "      <td>0</td>\n",
       "      <td>0</td>\n",
       "      <td>0</td>\n",
       "      <td>0</td>\n",
       "      <td>0</td>\n",
       "      <td>0</td>\n",
       "      <td>No</td>\n",
       "      <td>1</td>\n",
       "    </tr>\n",
       "    <tr>\n",
       "      <th>100511</th>\n",
       "      <td>M</td>\n",
       "      <td>55</td>\n",
       "      <td>ILHA DO BOI</td>\n",
       "      <td>0</td>\n",
       "      <td>0</td>\n",
       "      <td>0</td>\n",
       "      <td>0</td>\n",
       "      <td>0</td>\n",
       "      <td>1</td>\n",
       "      <td>No</td>\n",
       "      <td>3</td>\n",
       "    </tr>\n",
       "    <tr>\n",
       "      <th>102676</th>\n",
       "      <td>F</td>\n",
       "      <td>60</td>\n",
       "      <td>ILHA DO BOI</td>\n",
       "      <td>0</td>\n",
       "      <td>1</td>\n",
       "      <td>0</td>\n",
       "      <td>0</td>\n",
       "      <td>0</td>\n",
       "      <td>0</td>\n",
       "      <td>No</td>\n",
       "      <td>2</td>\n",
       "    </tr>\n",
       "    <tr>\n",
       "      <th>109213</th>\n",
       "      <td>M</td>\n",
       "      <td>36</td>\n",
       "      <td>ILHA DO BOI</td>\n",
       "      <td>0</td>\n",
       "      <td>0</td>\n",
       "      <td>0</td>\n",
       "      <td>0</td>\n",
       "      <td>0</td>\n",
       "      <td>0</td>\n",
       "      <td>No</td>\n",
       "      <td>2</td>\n",
       "    </tr>\n",
       "  </tbody>\n",
       "</table>\n",
       "</div>"
      ],
      "text/plain": [
       "       gender  age neighbourhood  scholarship  hipertension  diabetes  \\\n",
       "1568        F   70   ILHA DO BOI            0             0         0   \n",
       "1575        F   57   ILHA DO BOI            0             0         0   \n",
       "2603        F   20   ILHA DO BOI            0             0         0   \n",
       "5324        M   73   ILHA DO BOI            0             0         0   \n",
       "5631        F   65   ILHA DO BOI            0             0         0   \n",
       "18199       M   33   ILHA DO BOI            0             0         0   \n",
       "27946       F   60   ILHA DO BOI            0             1         0   \n",
       "32876       F   31   ILHA DO BOI            0             0         0   \n",
       "32924       F   61   ILHA DO BOI            0             0         1   \n",
       "33635       M   73   ILHA DO BOI            0             0         0   \n",
       "35188       M   33   ILHA DO BOI            0             0         0   \n",
       "38409       M   64   ILHA DO BOI            0             1         1   \n",
       "38426       F   63   ILHA DO BOI            0             1         1   \n",
       "39791       F   20   ILHA DO BOI            0             0         0   \n",
       "51829       M   33   ILHA DO BOI            0             0         0   \n",
       "52041       M   33   ILHA DO BOI            0             0         0   \n",
       "57017       M   73   ILHA DO BOI            0             0         0   \n",
       "61808       M   33   ILHA DO BOI            0             0         0   \n",
       "61811       F   63   ILHA DO BOI            0             0         0   \n",
       "61813       F   57   ILHA DO BOI            0             0         0   \n",
       "61821       M   74   ILHA DO BOI            0             0         0   \n",
       "61829       F   46   ILHA DO BOI            0             0         0   \n",
       "61833       F   57   ILHA DO BOI            0             0         0   \n",
       "61839       F   31   ILHA DO BOI            0             0         0   \n",
       "61852       M   24   ILHA DO BOI            0             0         0   \n",
       "62010       F   65   ILHA DO BOI            0             0         0   \n",
       "62035       F   31   ILHA DO BOI            0             0         0   \n",
       "62040       F   31   ILHA DO BOI            0             0         0   \n",
       "72159       F   65   ILHA DO BOI            0             0         0   \n",
       "77829       M   66   ILHA DO BOI            0             0         0   \n",
       "87587       M   22   ILHA DO BOI            0             0         0   \n",
       "92095       M   24   ILHA DO BOI            0             0         0   \n",
       "100511      M   55   ILHA DO BOI            0             0         0   \n",
       "102676      F   60   ILHA DO BOI            0             1         0   \n",
       "109213      M   36   ILHA DO BOI            0             0         0   \n",
       "\n",
       "        alcoholism  handcap  sms_received no_show  time_delta  \n",
       "1568             0        0             1      No          11  \n",
       "1575             0        0             1     Yes          14  \n",
       "2603             0        0             0      No          21  \n",
       "5324             0        0             0      No           2  \n",
       "5631             0        0             0      No           0  \n",
       "18199            0        0             0      No           0  \n",
       "27946            0        0             0      No           9  \n",
       "32876            0        0             0      No           0  \n",
       "32924            0        0             1      No          30  \n",
       "33635            0        0             0      No           2  \n",
       "35188            0        0             0      No           0  \n",
       "38409            0        0             0      No           2  \n",
       "38426            0        0             1      No           9  \n",
       "39791            0        0             0     Yes           1  \n",
       "51829            0        0             0      No           0  \n",
       "52041            0        0             0      No           0  \n",
       "57017            0        0             0      No          13  \n",
       "61808            0        0             0      No           0  \n",
       "61811            0        0             0      No           2  \n",
       "61813            0        0             0      No           6  \n",
       "61821            0        0             0      No           1  \n",
       "61829            0        0             0      No           2  \n",
       "61833            0        0             0      No           1  \n",
       "61839            0        0             0      No           0  \n",
       "61852            0        0             0      No           0  \n",
       "62010            0        0             1      No           6  \n",
       "62035            0        0             0      No           0  \n",
       "62040            0        0             0     Yes           0  \n",
       "72159            0        0             1      No           4  \n",
       "77829            0        0             0      No           0  \n",
       "87587            0        0             0      No           1  \n",
       "92095            0        0             0      No           1  \n",
       "100511           0        0             1      No           3  \n",
       "102676           0        0             0      No           2  \n",
       "109213           0        0             0      No           2  "
      ]
     },
     "execution_count": 341,
     "metadata": {},
     "output_type": "execute_result"
    }
   ],
   "source": [
    "df[df['neighbourhood'] == 'ILHA DO BOI']"
   ]
  },
  {
   "cell_type": "code",
   "execution_count": 343,
   "metadata": {},
   "outputs": [
    {
     "name": "stdout",
     "output_type": "stream",
     "text": [
      "35\n"
     ]
    }
   ],
   "source": [
    "print(len(df[df['neighbourhood'] == 'ILHA DO BOI']))"
   ]
  },
  {
   "cell_type": "markdown",
   "metadata": {},
   "source": [
    "Looks like there were 35 appointment records for Ilha do Boi which means the proportion is unlikely to be skewed because of small sample size. Cursory search suggests that Ilha do Boi is a [rich neighbourhood](https://www.ultimosrefugios.org.br/location-vitoria-ilha-do-boi) which might be related to the low no-show rate."
   ]
  },
  {
   "cell_type": "markdown",
   "metadata": {},
   "source": [
    "Now check the 100% and 0% no-show rate neighbourhoods:"
   ]
  },
  {
   "cell_type": "code",
   "execution_count": 332,
   "metadata": {},
   "outputs": [
    {
     "data": {
      "text/plain": [
       "SANTA CLARA                    0.264822\n",
       "SANTA CECÍLIA                  0.274554\n",
       "SANTOS DUMONT                  0.289185\n",
       "ILHAS OCEÂNICAS DE TRINDADE    1.000000\n",
       "PARQUE INDUSTRIAL                   NaN\n",
       "Name: neighbourhood, dtype: float64"
      ]
     },
     "execution_count": 332,
     "metadata": {},
     "output_type": "execute_result"
    }
   ],
   "source": [
    "percent_neighbourhoods.tail()"
   ]
  },
  {
   "cell_type": "code",
   "execution_count": 344,
   "metadata": {},
   "outputs": [
    {
     "data": {
      "text/html": [
       "<div>\n",
       "<style scoped>\n",
       "    .dataframe tbody tr th:only-of-type {\n",
       "        vertical-align: middle;\n",
       "    }\n",
       "\n",
       "    .dataframe tbody tr th {\n",
       "        vertical-align: top;\n",
       "    }\n",
       "\n",
       "    .dataframe thead th {\n",
       "        text-align: right;\n",
       "    }\n",
       "</style>\n",
       "<table border=\"1\" class=\"dataframe\">\n",
       "  <thead>\n",
       "    <tr style=\"text-align: right;\">\n",
       "      <th></th>\n",
       "      <th>gender</th>\n",
       "      <th>age</th>\n",
       "      <th>neighbourhood</th>\n",
       "      <th>scholarship</th>\n",
       "      <th>hipertension</th>\n",
       "      <th>diabetes</th>\n",
       "      <th>alcoholism</th>\n",
       "      <th>handcap</th>\n",
       "      <th>sms_received</th>\n",
       "      <th>no_show</th>\n",
       "      <th>time_delta</th>\n",
       "    </tr>\n",
       "  </thead>\n",
       "  <tbody>\n",
       "    <tr>\n",
       "      <th>48754</th>\n",
       "      <td>F</td>\n",
       "      <td>51</td>\n",
       "      <td>ILHAS OCEÂNICAS DE TRINDADE</td>\n",
       "      <td>0</td>\n",
       "      <td>0</td>\n",
       "      <td>0</td>\n",
       "      <td>0</td>\n",
       "      <td>0</td>\n",
       "      <td>0</td>\n",
       "      <td>Yes</td>\n",
       "      <td>29</td>\n",
       "    </tr>\n",
       "    <tr>\n",
       "      <th>48765</th>\n",
       "      <td>F</td>\n",
       "      <td>58</td>\n",
       "      <td>ILHAS OCEÂNICAS DE TRINDADE</td>\n",
       "      <td>0</td>\n",
       "      <td>0</td>\n",
       "      <td>0</td>\n",
       "      <td>0</td>\n",
       "      <td>0</td>\n",
       "      <td>0</td>\n",
       "      <td>Yes</td>\n",
       "      <td>29</td>\n",
       "    </tr>\n",
       "  </tbody>\n",
       "</table>\n",
       "</div>"
      ],
      "text/plain": [
       "      gender  age                neighbourhood  scholarship  hipertension  \\\n",
       "48754      F   51  ILHAS OCEÂNICAS DE TRINDADE            0             0   \n",
       "48765      F   58  ILHAS OCEÂNICAS DE TRINDADE            0             0   \n",
       "\n",
       "       diabetes  alcoholism  handcap  sms_received no_show  time_delta  \n",
       "48754         0           0        0             0     Yes          29  \n",
       "48765         0           0        0             0     Yes          29  "
      ]
     },
     "execution_count": 344,
     "metadata": {},
     "output_type": "execute_result"
    }
   ],
   "source": [
    "df[df['neighbourhood'] == 'ILHAS OCEÂNICAS DE TRINDADE']"
   ]
  },
  {
   "cell_type": "markdown",
   "metadata": {},
   "source": [
    "Having only 2 records, both of which were no-shows, means the 100% no-show rate is unlikely to be representative for the Ilhas Oceânicas de Trindade neighbourhood."
   ]
  },
  {
   "cell_type": "code",
   "execution_count": 345,
   "metadata": {},
   "outputs": [
    {
     "data": {
      "text/html": [
       "<div>\n",
       "<style scoped>\n",
       "    .dataframe tbody tr th:only-of-type {\n",
       "        vertical-align: middle;\n",
       "    }\n",
       "\n",
       "    .dataframe tbody tr th {\n",
       "        vertical-align: top;\n",
       "    }\n",
       "\n",
       "    .dataframe thead th {\n",
       "        text-align: right;\n",
       "    }\n",
       "</style>\n",
       "<table border=\"1\" class=\"dataframe\">\n",
       "  <thead>\n",
       "    <tr style=\"text-align: right;\">\n",
       "      <th></th>\n",
       "      <th>gender</th>\n",
       "      <th>age</th>\n",
       "      <th>neighbourhood</th>\n",
       "      <th>scholarship</th>\n",
       "      <th>hipertension</th>\n",
       "      <th>diabetes</th>\n",
       "      <th>alcoholism</th>\n",
       "      <th>handcap</th>\n",
       "      <th>sms_received</th>\n",
       "      <th>no_show</th>\n",
       "      <th>time_delta</th>\n",
       "    </tr>\n",
       "  </thead>\n",
       "  <tbody>\n",
       "    <tr>\n",
       "      <th>75199</th>\n",
       "      <td>F</td>\n",
       "      <td>17</td>\n",
       "      <td>PARQUE INDUSTRIAL</td>\n",
       "      <td>0</td>\n",
       "      <td>0</td>\n",
       "      <td>0</td>\n",
       "      <td>0</td>\n",
       "      <td>0</td>\n",
       "      <td>0</td>\n",
       "      <td>No</td>\n",
       "      <td>0</td>\n",
       "    </tr>\n",
       "  </tbody>\n",
       "</table>\n",
       "</div>"
      ],
      "text/plain": [
       "      gender  age      neighbourhood  scholarship  hipertension  diabetes  \\\n",
       "75199      F   17  PARQUE INDUSTRIAL            0             0         0   \n",
       "\n",
       "       alcoholism  handcap  sms_received no_show  time_delta  \n",
       "75199           0        0             0      No           0  "
      ]
     },
     "execution_count": 345,
     "metadata": {},
     "output_type": "execute_result"
    }
   ],
   "source": [
    "df[df['neighbourhood'] == 'PARQUE INDUSTRIAL']"
   ]
  },
  {
   "cell_type": "markdown",
   "metadata": {},
   "source": [
    "Similarly, only one record exists for neighbourhood Parque Industrial, which means the no-show rate from this dataset is unlikely to apply to the actual population in the neighbourhood."
   ]
  },
  {
   "cell_type": "markdown",
   "metadata": {},
   "source": [
    "If we had further data about the neighbourhoods (such as income, demographics) we might be able to further explore their relation to the no-show rate."
   ]
  },
  {
   "cell_type": "markdown",
   "metadata": {},
   "source": [
    "### Exploration 4: Scholarship (Welfare) / Hypertension / Diabetes / Alcoholism / Handicap / SMS Received and No-Show Outcomes"
   ]
  },
  {
   "cell_type": "markdown",
   "metadata": {},
   "source": [
    "The remaining factors are all binary variables (except for handicap, which has 5 levels) and we can proportion of show vs no-shop appointments with a normalised histogram (since the show data counts outnumber the no-show counts)."
   ]
  },
  {
   "cell_type": "code",
   "execution_count": 432,
   "metadata": {},
   "outputs": [
    {
     "data": {
      "text/plain": [
       "handcap  no_show\n",
       "0        No         86374\n",
       "         Yes        21912\n",
       "1        No          1676\n",
       "         Yes          366\n",
       "2        No           146\n",
       "         Yes           37\n",
       "3        No            10\n",
       "         Yes            3\n",
       "4        No             2\n",
       "         Yes            1\n",
       "Name: no_show, dtype: int64"
      ]
     },
     "execution_count": 432,
     "metadata": {},
     "output_type": "execute_result"
    }
   ],
   "source": [
    "# levels of handicap variable\n",
    "df.groupby('handcap')['no_show'].value_counts()"
   ]
  },
  {
   "cell_type": "code",
   "execution_count": 453,
   "metadata": {},
   "outputs": [
    {
     "data": {
      "image/png": "[encoded data removed]",
      "text/plain": [
       "<Figure size 1152x1440 with 6 Axes>"
      ]
     },
     "metadata": {},
     "output_type": "display_data"
    }
   ],
   "source": [
    "# https://stackoverflow.com/questions/24416612/setting-active-subplot-using-axes-object-in-matplotlib\n",
    "\n",
    "# set up subplots\n",
    "fig, axs = plt.subplots(3, 2, figsize=(16,20))\n",
    "\n",
    "# scholarship/welfare\n",
    "plt.sca(axs[0, 0])\n",
    "scholar_bins = range(4)\n",
    "plt.hist([pt_show['scholarship'], pt_noshow['scholarship']], color = ['cadetblue', 'salmon'], \\\n",
    "              bins = scholar_bins, label = ['show', 'no-show'], density=True, align='right');\n",
    "plt.xticks(np.arange(0,3), ['', 'Yes', 'No'])\n",
    "plt.title('Normalised Distribution of Show / No-Show Patients by Welfare')\n",
    "plt.xlabel('Enrollment in Brasilian Welfare Program Bolsa Família')\n",
    "plt.ylabel('Proportion of Appointments');\n",
    "plt.legend();\n",
    "\n",
    "# hypertension\n",
    "plt.sca(axs[0, 1])\n",
    "scholar_bins = range(4)\n",
    "plt.hist([pt_show['hipertension'], pt_noshow['hipertension']], color = ['cadetblue', 'salmon'], \\\n",
    "              bins = scholar_bins, label = ['show', 'no-show'], density=True, align='right');\n",
    "plt.xticks(np.arange(0,3), ['', 'Yes', 'No'])\n",
    "plt.title('Normalised Distribution of Show / No-Show Patients by Hypertension')\n",
    "plt.xlabel('Hypertension')\n",
    "plt.ylabel('Proportion of Appointments');\n",
    "plt.legend();\n",
    "\n",
    "# diabetes\n",
    "plt.sca(axs[1, 0])\n",
    "diabetes_bins = range(4)\n",
    "plt.hist([pt_show['diabetes'], pt_noshow['diabetes']], color = ['cadetblue', 'salmon'], \\\n",
    "              bins = diabetes_bins, label = ['show', 'no-show'], density=True, align='right');\n",
    "plt.xticks(np.arange(0,3), ['', 'Yes', 'No'])\n",
    "plt.title('Normalised Distribution of Show / No-Show Patients by Diabetes')\n",
    "plt.xlabel('Diabetes')\n",
    "plt.ylabel('Proportion of Appointments');\n",
    "plt.legend();\n",
    "\n",
    "# alcoholism\n",
    "plt.sca(axs[1, 1])\n",
    "alcoholism_bins = range(5)\n",
    "plt.hist([pt_show['alcoholism'], pt_noshow['alcoholism']], color = ['cadetblue', 'salmon'], \\\n",
    "              bins = alcoholism_bins, label = ['show', 'no-show'], density=True, align='right');\n",
    "plt.xticks(np.arange(0,3), ['', 'Yes', 'No'])\n",
    "plt.title('Normalised Distribution of Show / No-Show Patients by Alcoholism')\n",
    "plt.xlabel('Alcoholism')\n",
    "plt.ylabel('Proportion of Appointments');\n",
    "plt.legend();\n",
    "\n",
    "# handicap\n",
    "plt.sca(axs[2, 0])\n",
    "handicap_bins = range(6)\n",
    "plt.hist([pt_show['handcap'], pt_noshow['handcap']], color = ['cadetblue', 'salmon'], \\\n",
    "              bins=handicap_bins, label = ['show', 'no-show'], density=True, align='right');\n",
    "plt.xticks(np.arange(0,7), ['', '0', '1', '2', '3', '4', ''])\n",
    "plt.title('Normalised Distribution of Show / No-Show Patients by Handicap')\n",
    "plt.xlabel('Handicap')\n",
    "plt.ylabel('Proportion of Appointments');\n",
    "plt.legend();\n",
    "\n",
    "# sms received\n",
    "plt.sca(axs[2, 1])\n",
    "sms_bins = range(4)\n",
    "plt.hist([pt_show['sms_received'], pt_noshow['sms_received']], color = ['cadetblue', 'salmon'], \\\n",
    "              bins = sms_bins, label = ['show', 'no-show'], density=True, align='right');\n",
    "plt.xticks(np.arange(0,3), ['', 'Yes', 'No'])\n",
    "plt.title('Normalised Distribution of Show / No-Show Patients by SMS Received')\n",
    "plt.xlabel('SMS Received')\n",
    "plt.ylabel('Proportion of Appointments');\n",
    "plt.legend();\n",
    "\n",
    "\n"
   ]
  },
  {
   "cell_type": "markdown",
   "metadata": {},
   "source": [
    "There does not appear to be a pronounced relation of these variables to the show/no-show rate, except for the variable 'SMS received' (the lower right plot). SMS receipt seems to correlate with the patient showing up for the appointment. "
   ]
  },
  {
   "cell_type": "markdown",
   "metadata": {},
   "source": [
    "<a id='conclusions'></a>\n",
    "## Conclusions\n",
    "\n",
    "Through the use of descriptive statistics and data visualisations, __several factors appear to be related to the show/no-show rate__:\n",
    "\n",
    "- time delta (show appointments have a lower time delta mean and most show appointments have time delta of 0)\n",
    "- younger ages (5 - 45) are more likely to be no-shows compared with ages (0 - 5, very young) and (45+, older)\n",
    "- neighbourhood - Ilha do Boi has a low no-show rate compared to other neighbourhoods\n",
    "- SMS received possibly correlates with increased show rate\n",
    "\n",
    "Of course, due to the limitation of descriptive statistics and visualisations, all these findings are exploratory and the above noted factors are just possible correlations, not any indication of causation. No inferences are being made by this report. "
   ]
  },
  {
   "cell_type": "markdown",
   "metadata": {},
   "source": [
    "<a id='references'></a>\n",
    "## References"
   ]
  },
  {
   "cell_type": "markdown",
   "metadata": {},
   "source": [
    "- https://stackoverflow.com/questions/18215317/extracting-days-from-a-numpy-timedelta64-value\n",
    "- https://matplotlib.org/examples/pylab_examples/subplots_demo.html\n",
    "- https://matplotlib.org/api/_as_gen/matplotlib.pyplot.boxplot.html\n",
    "- https://matplotlib.org/api/_as_gen/matplotlib.pyplot.hist.html\n",
    "- https://matplotlib.org/api/_as_gen/matplotlib.pyplot.figure.html\n",
    "- https://matplotlib.org/mpl_examples/color/named_colors.hires.png\n",
    "- https://matplotlib.org/api/_as_gen/matplotlib.pyplot.xticks.html\n",
    "- https://www.ultimosrefugios.org.br/location-vitoria-ilha-do-boi\n",
    "- https://stackoverflow.com/questions/24416612/setting-active-subplot-using-axes-object-in-matplotlib"
   ]
  }
 ],
 "metadata": {
  "kernelspec": {
   "display_name": "Python 3",
   "language": "python",
   "name": "python3"
  },
  "language_info": {
   "codemirror_mode": {
    "name": "ipython",
    "version": 3
   },
   "file_extension": ".py",
   "mimetype": "text/x-python",
   "name": "python",
   "nbconvert_exporter": "python",
   "pygments_lexer": "ipython3",
   "version": "3.6.5"
  }
 },
 "nbformat": 4,
 "nbformat_minor": 2
}
